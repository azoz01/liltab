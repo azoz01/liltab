{
 "cells": [
  {
   "cell_type": "code",
   "execution_count": 1,
   "metadata": {},
   "outputs": [],
   "source": [
    "%load_ext lab_black"
   ]
  },
  {
   "cell_type": "code",
   "execution_count": 2,
   "metadata": {},
   "outputs": [],
   "source": [
    "from liltab.data.datasets import PandasDataset\n",
    "from liltab.data.dataloaders import FewShotDataLoader, ComposedDataLoader\n",
    "from liltab.model.heterogenous_attributes_network import HeterogenousAttributesNetwork\n",
    "from pathlib import Path"
   ]
  },
  {
   "cell_type": "code",
   "execution_count": 3,
   "metadata": {},
   "outputs": [],
   "source": [
    "paths = [\n",
    "    Path(\"data/openml_original/ICU.csv\"),\n",
    "    Path(\"data/openml_original/autoPrice.csv\"),\n",
    "    Path(\"data/openml_original/fri_c3_250_10.csv\"),\n",
    "]\n",
    "\n",
    "pd_datasets = [PandasDataset(path) for path in paths]\n",
    "few_shot_datasets = [\n",
    "    FewShotDataLoader(pd_dataset, 5, 27, 100) for pd_dataset in pd_datasets\n",
    "]\n",
    "composed_few_shot_dataset = ComposedDataLoader(\n",
    "    dataloaders=few_shot_datasets, n_episodes=100\n",
    ")"
   ]
  },
  {
   "cell_type": "code",
   "execution_count": 4,
   "metadata": {},
   "outputs": [
    {
     "name": "stdout",
     "output_type": "stream",
     "text": [
      "torch.Size([5, 19])\n"
     ]
    },
    {
     "data": {
      "text/plain": [
       "torch.Size([27, 1])"
      ]
     },
     "execution_count": 4,
     "metadata": {},
     "output_type": "execute_result"
    }
   ],
   "source": [
    "network = HeterogenousAttributesNetwork()\n",
    "\n",
    "X_support, y_support, X_query, y_query = next(composed_few_shot_dataset)\n",
    "print(X_support.shape)\n",
    "network(X_support, y_support, X_query).shape"
   ]
  }
 ],
 "metadata": {
  "kernelspec": {
   "display_name": ".venv",
   "language": "python",
   "name": "python3"
  },
  "language_info": {
   "codemirror_mode": {
    "name": "ipython",
    "version": 3
   },
   "file_extension": ".py",
   "mimetype": "text/x-python",
   "name": "python",
   "nbconvert_exporter": "python",
   "pygments_lexer": "ipython3",
   "version": "3.10.9"
  },
  "orig_nbformat": 4
 },
 "nbformat": 4,
 "nbformat_minor": 2
}
